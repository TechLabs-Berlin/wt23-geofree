{
 "cells": [
  {
   "cell_type": "code",
   "execution_count": 232,
   "id": "26fc00ef",
   "metadata": {},
   "outputs": [
    {
     "name": "stdout",
     "output_type": "stream",
     "text": [
      "<module 'fin' from '/Users/toinester/opt/anaconda3/lib/python3.9/site-packages/fin/__init__.py'>\n"
     ]
    }
   ],
   "source": [
    "import requests\n",
    "import pandas as pd\n",
    "from bs4 import BeautifulSoup\n",
    "import fin\n",
    "\n",
    "questionlist = []\n",
    "\n",
    "headers = {\"User-Agent\": \"Mozilla/5.0 (Macintosh; Intel Mac OS X 10_15_7) AppleWebKit/605.1.15 (KHTML, like Gecko) Version/15.0 Safari/605.1.15\"}\n",
    "\n",
    "postcodes = []\n",
    "item_type = []\n",
    "\n",
    "def getResults(pagenr):\n",
    "    url = f\"https://www.free-your-stuff.com/de/berlin?page={pagenr}\"\n",
    "    r = requests.get(url, headers=headers)\n",
    "    soup = BeautifulSoup(r.text, \"html.parser\")\n",
    "    \n",
    "    #print(soup.title.text)\n",
    "    #print(r.status_code)\n",
    "\n",
    "    #inspect elements\n",
    "\n",
    "    #postcodes = soup.find_all(\"div\", {\"class\":\"location\"})\n",
    "    #questions = soup.find_all(\"div\", {\"class\":\"location\"})\n",
    "\n",
    "    for h3 in soup.find_all(\"div\", class_=\"location\"):\n",
    "        postcodes.append(h3.get_text(strip=True))\n",
    "\n",
    "    for h3 in soup.find_all(\"div\", class_=\"product-type\"):\n",
    "        item_type.append(h3.get_text(strip=True))\n",
    "   \n",
    "    #question = {\n",
    "    #    \"PLZ\" : postcodes,\n",
    "    #    \"Type\" : item_type\n",
    "    #} \n",
    "    #questionlist.append(question)\n",
    "    return\n",
    "\n",
    "#take 100 pages, else too slow\n",
    "for x in range(1,100):\n",
    "    getResults(x)\n",
    "    \n",
    "#print(len(item_type))   \n",
    "\n",
    "df = pd.DataFrame()\n",
    "df[\"PLZ\"] = postcodes\n",
    "df[\"PLZ\"] = df[\"PLZ\"].str.replace(\" Berlin\",\"\")\n",
    "df[\"Type\"] = item_type\n",
    "#df.head(20)\n",
    "df.to_excel(\"DataFrameScrapingFYSBERLIN-final.xlsx\")\n",
    "\n",
    "print(fin)"
   ]
  }
 ],
 "metadata": {
  "kernelspec": {
   "display_name": "Python 3 (ipykernel)",
   "language": "python",
   "name": "python3"
  },
  "language_info": {
   "codemirror_mode": {
    "name": "ipython",
    "version": 3
   },
   "file_extension": ".py",
   "mimetype": "text/x-python",
   "name": "python",
   "nbconvert_exporter": "python",
   "pygments_lexer": "ipython3",
   "version": "3.9.13"
  }
 },
 "nbformat": 4,
 "nbformat_minor": 5
}
