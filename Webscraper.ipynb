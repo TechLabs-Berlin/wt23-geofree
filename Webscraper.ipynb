{
 "cells": [
  {
   "cell_type": "code",
   "execution_count": 18,
   "id": "59c9a078",
   "metadata": {},
   "outputs": [
    {
     "ename": "SyntaxError",
     "evalue": "invalid syntax (1212635818.py, line 18)",
     "output_type": "error",
     "traceback": [
      "\u001b[0;36m  File \u001b[0;32m\"/var/folders/pf/f_xh34hn3fx5fxbd_g10j03h0000gn/T/ipykernel_9843/1212635818.py\"\u001b[0;36m, line \u001b[0;32m18\u001b[0m\n\u001b[0;31m    driver.get(\"<a href=\"https://www.free-your-stuff.com/de/berlin\")\u001b[0m\n\u001b[0m                         ^\u001b[0m\n\u001b[0;31mSyntaxError\u001b[0m\u001b[0;31m:\u001b[0m invalid syntax\n"
     ]
    }
   ],
   "source": [
    "#Name file \n",
    "#gedit web-s.py\n",
    "\n",
    "#Libraries\n",
    "from selenium import webdriver\n",
    "from BeautifulSoup import BeautifulSoup\n",
    "import pandas as pd\n",
    "\n",
    "#driver for Chrome\n",
    "#/Users/toinester/opt/anaconda3/lib/python3.9/site-packages/selenium/webdriver/chrome\n",
    "#driver = webdriver.Chrome(\"/usr/lib/chromium-browser/chromedriver\")\n",
    "driver = webdriver.Chrome(\"/Users/toinester/opt/anaconda3/lib/python3.9/site-packages/selenium/webdriver/chrome\")\n",
    "\n",
    "#name variables\n",
    "products=[] #List to store name of the product\n",
    "prices=[] #List to store price of the product\n",
    "ratings=[] #List to store rating of the product\n",
    "driver.get(\"<a href=\"https://www.free-your-stuff.com/de/berlin\")\n",
    "\n",
    "content = driver.page_source\n",
    "soup = BeautifulSoup(content)\n",
    "for a in soup.findAll('a',href=True, attrs={'class':'_31qSD5'}):\n",
    "    name=a.find('div', attrs={'class':'_3wU53n'})\n",
    "    price=a.find('div', attrs={'class':'_1vC4OE _2rQ-NK'})\n",
    "    rating=a.find('div', attrs={'class':'hGSR34 _2beYZw'})\n",
    "    products.append(name.text)\n",
    "    prices.append(price.text)\n",
    "    ratings.append(rating.text) \n",
    "\n",
    "df = pd.DataFrame({'Product Name':products,'Price':prices,'Rating':ratings}) \n",
    "df.to_csv('products.csv', index=False, encoding='utf-8')"
   ]
  },
  {
   "cell_type": "code",
   "execution_count": 33,
   "id": "9b857fb7",
   "metadata": {},
   "outputs": [
    {
     "ename": "TypeError",
     "evalue": "'str' object cannot be interpreted as an integer",
     "output_type": "error",
     "traceback": [
      "\u001b[0;31m---------------------------------------------------------------------------\u001b[0m",
      "\u001b[0;31mTypeError\u001b[0m                                 Traceback (most recent call last)",
      "\u001b[0;32m/var/folders/pf/f_xh34hn3fx5fxbd_g10j03h0000gn/T/ipykernel_9843/2747978409.py\u001b[0m in \u001b[0;36m<module>\u001b[0;34m\u001b[0m\n\u001b[1;32m     33\u001b[0m                         \u001b[0mcurrent_price\u001b[0m \u001b[0;34m=\u001b[0m \u001b[0mfloat\u001b[0m\u001b[0;34m(\u001b[0m\u001b[0mcurrent_price\u001b[0m\u001b[0;34m.\u001b[0m\u001b[0msplit\u001b[0m\u001b[0;34m(\u001b[0m\u001b[0;34m\"€\"\u001b[0m\u001b[0;34m,\u001b[0m\u001b[0;34m\"$\"\u001b[0m\u001b[0;34m)\u001b[0m\u001b[0;34m[\u001b[0m\u001b[0;36m0\u001b[0m\u001b[0;34m]\u001b[0m\u001b[0;34m.\u001b[0m\u001b[0mreplace\u001b[0m\u001b[0;34m(\u001b[0m\u001b[0;34m\",\"\u001b[0m\u001b[0;34m,\u001b[0m \u001b[0;34m\".\"\u001b[0m\u001b[0;34m)\u001b[0m\u001b[0;34m)\u001b[0m\u001b[0;34m\u001b[0m\u001b[0;34m\u001b[0m\u001b[0m\n\u001b[1;32m     34\u001b[0m                   \u001b[0;32melse\u001b[0m\u001b[0;34m:\u001b[0m\u001b[0;34m\u001b[0m\u001b[0;34m\u001b[0m\u001b[0m\n\u001b[0;32m---> 35\u001b[0;31m                         \u001b[0mcurrent_price\u001b[0m \u001b[0;34m=\u001b[0m \u001b[0mfloat\u001b[0m\u001b[0;34m(\u001b[0m\u001b[0mprice\u001b[0m\u001b[0;34m.\u001b[0m\u001b[0mget_text\u001b[0m\u001b[0;34m(\u001b[0m\u001b[0mstrip\u001b[0m\u001b[0;34m=\u001b[0m\u001b[0;32mTrue\u001b[0m\u001b[0;34m)\u001b[0m\u001b[0;34m.\u001b[0m\u001b[0msplit\u001b[0m\u001b[0;34m(\u001b[0m\u001b[0;34m\"€\"\u001b[0m\u001b[0;34m,\u001b[0m\u001b[0;34m\"$\"\u001b[0m\u001b[0;34m)\u001b[0m\u001b[0;34m[\u001b[0m\u001b[0;36m0\u001b[0m\u001b[0;34m]\u001b[0m\u001b[0;34m.\u001b[0m\u001b[0mreplace\u001b[0m\u001b[0;34m(\u001b[0m\u001b[0;34m\",\"\u001b[0m\u001b[0;34m,\u001b[0m \u001b[0;34m\".\"\u001b[0m\u001b[0;34m)\u001b[0m\u001b[0;34m)\u001b[0m\u001b[0;34m\u001b[0m\u001b[0;34m\u001b[0m\u001b[0m\n\u001b[0m\u001b[1;32m     36\u001b[0m             \u001b[0mbestseller_book\u001b[0m\u001b[0;34m[\u001b[0m\u001b[0;34m\"price\"\u001b[0m\u001b[0;34m]\u001b[0m \u001b[0;34m=\u001b[0m \u001b[0mcurrent_price\u001b[0m\u001b[0;34m\u001b[0m\u001b[0;34m\u001b[0m\u001b[0m\n\u001b[1;32m     37\u001b[0m             \u001b[0mbestseller_books\u001b[0m\u001b[0;34m.\u001b[0m\u001b[0mappend\u001b[0m\u001b[0;34m(\u001b[0m\u001b[0mbestseller_book\u001b[0m\u001b[0;34m)\u001b[0m\u001b[0;34m\u001b[0m\u001b[0;34m\u001b[0m\u001b[0m\n",
      "\u001b[0;31mTypeError\u001b[0m: 'str' object cannot be interpreted as an integer"
     ]
    }
   ],
   "source": [
    "from bs4 import BeautifulSoup as bs\n",
    "import requests\n",
    "import numpy as np\n",
    "import pandas as pd\n",
    "import matplotlib.pyplot as plt\n",
    "%matplotlib inline\n",
    "\n",
    "\n",
    "page = 1\n",
    "bestseller_books = []\n",
    "while page != 35:\n",
    "      url = f\"https://www.bookdepository.com/bestsellers?page={page}\"\n",
    "      response = requests.get(url)\n",
    "      html = response.content\n",
    "      soup = bs(html, \"lxml\")\n",
    "      for book in soup.find_all(\"div\", class_=\"book-item\"):\n",
    "            bestseller_book = {}\n",
    "            bestseller_book[\"title\"] = book.h3.get_text(strip=True)\n",
    "            bestseller_book[\"format\"] = book.find(\"p\", class_=\"format\").get_text()\n",
    "            try:\n",
    "                bestseller_book[\"year\"] = book.find(\"p\", class_=\"published\").get_text()[-4:]\n",
    "            except AttributeError:\n",
    "                bestseller_book[\"year\"] = \"\"\n",
    "            price = book.find(\"p\", class_=\"price\")\n",
    "            try:\n",
    "                original_price = price.find(\"span\", class_=\"rrp\")\n",
    "            except AttributeError:\n",
    "                bestseller_book[\"price\"] = \"\"\n",
    "                original_price = price.find(\"US$21.52\")\n",
    "            else:\n",
    "                  if original_price:\n",
    "                        current_price = str(original_price.previousSibling).strip()\n",
    "                        current_price = float(current_price.split(\"€\",\"$\")[0].replace(\",\", \".\"))\n",
    "                  else:\n",
    "                        current_price = float(price.get_text(strip=True).split(\"€\",\"$\")[0].replace(\",\", \".\"))\n",
    "            bestseller_book[\"price\"] = current_price\n",
    "            bestseller_books.append(bestseller_book)\n",
    "      page = page + 1"
   ]
  },
  {
   "cell_type": "code",
   "execution_count": null,
   "id": "46199572",
   "metadata": {},
   "outputs": [],
   "source": [
    "from bs4 import BeautifulSoup as bs\n",
    "import requests\n",
    "import numpy as np\n",
    "import pandas as pd\n",
    "import matplotlib.pyplot as plt\n",
    "%matplotlib inline\n",
    "\n",
    "\n",
    "page = 1\n",
    "FreeStuff = []\n",
    "while page != 5:\n",
    "      url = f\"https://www.free-your-stuff.com/de/berlin?page={page}\"\n",
    "      response = requests.get(url)\n",
    "      html = response.content\n",
    "      soup = bs(html, \"lxml\")\n",
    "      postcodes_on_page = soup.select(\"div\")\n",
    "      for product_postcode in postcodes_on_page:\n",
    "        FreeStuff.append(product_postcode.get_text())  \n",
    "        page = page = 1\n",
    "       \n",
    "FreeStuff_postcodes = pd.Series(FreeStuff)\n",
    "FreeStuff_postcodes.value_counts()"
   ]
  }
 ],
 "metadata": {
  "kernelspec": {
   "display_name": "Python 3 (ipykernel)",
   "language": "python",
   "name": "python3"
  },
  "language_info": {
   "codemirror_mode": {
    "name": "ipython",
    "version": 3
   },
   "file_extension": ".py",
   "mimetype": "text/x-python",
   "name": "python",
   "nbconvert_exporter": "python",
   "pygments_lexer": "ipython3",
   "version": "3.9.13"
  }
 },
 "nbformat": 4,
 "nbformat_minor": 5
}
