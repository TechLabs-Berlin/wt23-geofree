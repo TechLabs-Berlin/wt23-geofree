{
 "cells": [
  {
   "cell_type": "code",
   "execution_count": 6,
   "id": "f745fa36",
   "metadata": {},
   "outputs": [
    {
     "name": "stdout",
     "output_type": "stream",
     "text": [
      "Since you looked at Test3, you might be interested in the following items:\n",
      "\n",
      "7                    TestFinal with space\n",
      "14                                  Test1\n",
      "8              Extended background policy\n",
      "17              Adaptive neutral solution\n",
      "35    Profound methodical functionalities\n",
      "Name: title, dtype: object\n"
     ]
    }
   ],
   "source": [
    "#Machine Learning Model 1 - Recommendation system for GeoFree based on other item text\n",
    "\n",
    "#import libraries\n",
    "import pandas as pd\n",
    "import numpy as np\n",
    "from sklearn.feature_extraction.text import TfidfVectorizer\n",
    "from sklearn.metrics.pairwise import linear_kernel\n",
    "\n",
    "#import mock dataset with fields corresponding to GeoFree backend database\n",
    "#df_geofree = pd.read_csv(\"MOCK_DATA_ML1000.csv\")\n",
    "df_geofree = pd.read_csv(\"MOCK_DATA_ML1000_test.csv\")\n",
    "#df_geofree.head(50)\n",
    "\n",
    "df_geofree [\"description\"]\n",
    "\n",
    "tfidf = TfidfVectorizer(stop_words=\"english\")\n",
    "\n",
    "#vector space model, basic tfid matrix\n",
    "tfidf_matrix = tfidf.fit_transform(df_geofree[\"description\"])\n",
    "\n",
    "#create reference of each description with other descriptions\n",
    "cosine_sim = linear_kernel(tfidf_matrix, tfidf_matrix)\n",
    "\n",
    "#output should be the link to the other description, remove duplicates if similar items are posted\n",
    "the_output = pd.Series(df_geofree.index, index=df_geofree[\"title\"]).drop_duplicates()\n",
    "#the_output\n",
    "\n",
    "#Algorithm function\n",
    "def get_the_recommendation(title, cosine_sim = cosine_sim):\n",
    "    \n",
    "    idx = the_output[title]\n",
    "    #add the index of the recommended return\n",
    "    sim_scores = enumerate(cosine_sim[idx])\n",
    "    #sort the answers with closest match first\n",
    "    sim_scores = sorted(sim_scores, key=lambda x: x[1], reverse=True)\n",
    "    #we only need 5 GeoFree recommendations, so only return top 5. Disregard first one as this is always the original item title\n",
    "    sim_scores = sim_scores[1:6]\n",
    "    \n",
    "    #loop through the answer descriptions and return index and score\n",
    "    #for y in sim_scores:\n",
    "    #    print(y)\n",
    "    \n",
    "    sim_index = [i[0] for i in sim_scores]\n",
    "\n",
    "    #return item title \n",
    "    print(f\"Since you looked at {title}, you might be interested in the following items:\")\n",
    "    print(\"\")\n",
    "    print(df_geofree[\"title\"].iloc[sim_index])\n",
    "    \n",
    "#test the algorithm function\n",
    "get_the_recommendation(\"Test3\")\n"
   ]
  },
  {
   "cell_type": "code",
   "execution_count": 3,
   "id": "3decccc4",
   "metadata": {},
   "outputs": [],
   "source": []
  },
  {
   "cell_type": "code",
   "execution_count": 4,
   "id": "cad466f0",
   "metadata": {},
   "outputs": [
    {
     "data": {
      "text/plain": [
       "title\n",
       "Monitored directional hub                            0\n",
       "Mandatory client-server artificial intelligence      1\n",
       "Open-source national customer loyalty                2\n",
       "Re-engineered 24 hour complexity                     3\n",
       "Optimized needs-based function                       4\n",
       "                                                  ... \n",
       "Business-focused cohesive budgetary management     995\n",
       "Triple-buffered 5th generation capacity            996\n",
       "Programmable attitude-oriented archive             997\n",
       "Organic 5th generation throughput                  998\n",
       "Balanced background support                        999\n",
       "Length: 1000, dtype: int64"
      ]
     },
     "execution_count": 4,
     "metadata": {},
     "output_type": "execute_result"
    }
   ],
   "source": []
  },
  {
   "cell_type": "code",
   "execution_count": 5,
   "id": "15c2c236",
   "metadata": {},
   "outputs": [
    {
     "name": "stdout",
     "output_type": "stream",
     "text": [
      "Since you looked at Test3, you might be interested in the following items:\n",
      "\n",
      "7                    TestFinal with space\n",
      "14                                  Test1\n",
      "8              Extended background policy\n",
      "17              Adaptive neutral solution\n",
      "35    Profound methodical functionalities\n",
      "Name: title, dtype: object\n"
     ]
    }
   ],
   "source": []
  },
  {
   "cell_type": "code",
   "execution_count": null,
   "id": "0f65b69b",
   "metadata": {},
   "outputs": [],
   "source": []
  }
 ],
 "metadata": {
  "kernelspec": {
   "display_name": "Python 3 (ipykernel)",
   "language": "python",
   "name": "python3"
  },
  "language_info": {
   "codemirror_mode": {
    "name": "ipython",
    "version": 3
   },
   "file_extension": ".py",
   "mimetype": "text/x-python",
   "name": "python",
   "nbconvert_exporter": "python",
   "pygments_lexer": "ipython3",
   "version": "3.9.13"
  }
 },
 "nbformat": 4,
 "nbformat_minor": 5
}
